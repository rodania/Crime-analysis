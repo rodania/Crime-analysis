{
 "cells": [
  {
   "cell_type": "code",
   "execution_count": 6,
   "metadata": {},
   "outputs": [],
   "source": [
    "import pandas as pd\n",
    "import numpy as np\n",
    "import datetime as dt\n",
    "import seaborn as sns"
   ]
  },
  {
   "cell_type": "code",
   "execution_count": 7,
   "metadata": {},
   "outputs": [],
   "source": [
    "bg = pd.read_csv('burglary.csv')"
   ]
  },
  {
   "cell_type": "code",
   "execution_count": 8,
   "metadata": {},
   "outputs": [
    {
     "data": {
      "text/html": [
       "<div>\n",
       "<style scoped>\n",
       "    .dataframe tbody tr th:only-of-type {\n",
       "        vertical-align: middle;\n",
       "    }\n",
       "\n",
       "    .dataframe tbody tr th {\n",
       "        vertical-align: top;\n",
       "    }\n",
       "\n",
       "    .dataframe thead th {\n",
       "        text-align: right;\n",
       "    }\n",
       "</style>\n",
       "<table border=\"1\" class=\"dataframe\">\n",
       "  <thead>\n",
       "    <tr style=\"text-align: right;\">\n",
       "      <th></th>\n",
       "      <th>Unnamed: 0</th>\n",
       "      <th>Date</th>\n",
       "      <th>Occ time</th>\n",
       "      <th>CMPLNT_TO_TM</th>\n",
       "      <th>RPT_DT</th>\n",
       "      <th>PD_DESC</th>\n",
       "      <th>State</th>\n",
       "      <th>OFNS_DESC</th>\n",
       "      <th>LOC_OF_OCCUR_DESC</th>\n",
       "      <th>PREM_TYP_DESC</th>\n",
       "      <th>...</th>\n",
       "      <th>SUSP_AGE_GROUP</th>\n",
       "      <th>SUSP_RACE</th>\n",
       "      <th>SUSP_SEX</th>\n",
       "      <th>TRANSIT_DISTRICT</th>\n",
       "      <th>Latitude</th>\n",
       "      <th>Longitude</th>\n",
       "      <th>Lat_Lon</th>\n",
       "      <th>VIC_AGE_GROUP</th>\n",
       "      <th>VIC_RACE</th>\n",
       "      <th>VIC_SEX</th>\n",
       "    </tr>\n",
       "  </thead>\n",
       "  <tbody>\n",
       "    <tr>\n",
       "      <th>0</th>\n",
       "      <td>107</td>\n",
       "      <td>06/23/2006</td>\n",
       "      <td>16:00:00</td>\n",
       "      <td>NaN</td>\n",
       "      <td>06/23/2006</td>\n",
       "      <td>BURGLARY,RESIDENCE,DAY</td>\n",
       "      <td>COMPLETED</td>\n",
       "      <td>BURGLARY</td>\n",
       "      <td>INSIDE</td>\n",
       "      <td>RESIDENCE - APT. HOUSE</td>\n",
       "      <td>...</td>\n",
       "      <td>NaN</td>\n",
       "      <td>NaN</td>\n",
       "      <td>NaN</td>\n",
       "      <td>NaN</td>\n",
       "      <td>40.828366</td>\n",
       "      <td>-73.872354</td>\n",
       "      <td>(40.828365904, -73.872354078)</td>\n",
       "      <td>18-24</td>\n",
       "      <td>WHITE HISPANIC</td>\n",
       "      <td>M</td>\n",
       "    </tr>\n",
       "    <tr>\n",
       "      <th>1</th>\n",
       "      <td>210</td>\n",
       "      <td>06/23/2006</td>\n",
       "      <td>14:30:00</td>\n",
       "      <td>14:45:00</td>\n",
       "      <td>06/23/2006</td>\n",
       "      <td>BURGLARY,RESIDENCE,DAY</td>\n",
       "      <td>COMPLETED</td>\n",
       "      <td>BURGLARY</td>\n",
       "      <td>INSIDE</td>\n",
       "      <td>RESIDENCE - APT. HOUSE</td>\n",
       "      <td>...</td>\n",
       "      <td>NaN</td>\n",
       "      <td>NaN</td>\n",
       "      <td>NaN</td>\n",
       "      <td>NaN</td>\n",
       "      <td>40.598445</td>\n",
       "      <td>-73.950175</td>\n",
       "      <td>(40.598445031, -73.950174852)</td>\n",
       "      <td>65+</td>\n",
       "      <td>WHITE</td>\n",
       "      <td>F</td>\n",
       "    </tr>\n",
       "    <tr>\n",
       "      <th>2</th>\n",
       "      <td>224</td>\n",
       "      <td>06/23/2006</td>\n",
       "      <td>14:15:00</td>\n",
       "      <td>14:35:00</td>\n",
       "      <td>06/23/2006</td>\n",
       "      <td>BURGLARY,RESIDENCE,DAY</td>\n",
       "      <td>COMPLETED</td>\n",
       "      <td>BURGLARY</td>\n",
       "      <td>INSIDE</td>\n",
       "      <td>RESIDENCE - APT. HOUSE</td>\n",
       "      <td>...</td>\n",
       "      <td>NaN</td>\n",
       "      <td>NaN</td>\n",
       "      <td>NaN</td>\n",
       "      <td>NaN</td>\n",
       "      <td>40.824950</td>\n",
       "      <td>-73.946916</td>\n",
       "      <td>(40.824949518, -73.946915952)</td>\n",
       "      <td>25-44</td>\n",
       "      <td>BLACK</td>\n",
       "      <td>M</td>\n",
       "    </tr>\n",
       "    <tr>\n",
       "      <th>3</th>\n",
       "      <td>293</td>\n",
       "      <td>06/23/2006</td>\n",
       "      <td>13:00:00</td>\n",
       "      <td>16:00:00</td>\n",
       "      <td>06/23/2006</td>\n",
       "      <td>BURGLARY,RESIDENCE,DAY</td>\n",
       "      <td>ATTEMPTED</td>\n",
       "      <td>BURGLARY</td>\n",
       "      <td>OPPOSITE OF</td>\n",
       "      <td>RESIDENCE-HOUSE</td>\n",
       "      <td>...</td>\n",
       "      <td>NaN</td>\n",
       "      <td>NaN</td>\n",
       "      <td>NaN</td>\n",
       "      <td>NaN</td>\n",
       "      <td>40.669374</td>\n",
       "      <td>-73.767661</td>\n",
       "      <td>(40.669374367, -73.767661206)</td>\n",
       "      <td>65+</td>\n",
       "      <td>BLACK</td>\n",
       "      <td>M</td>\n",
       "    </tr>\n",
       "    <tr>\n",
       "      <th>4</th>\n",
       "      <td>311</td>\n",
       "      <td>06/23/2006</td>\n",
       "      <td>12:30:00</td>\n",
       "      <td>17:30:00</td>\n",
       "      <td>06/23/2006</td>\n",
       "      <td>BURGLARY,RESIDENCE,DAY</td>\n",
       "      <td>COMPLETED</td>\n",
       "      <td>BURGLARY</td>\n",
       "      <td>INSIDE</td>\n",
       "      <td>RESIDENCE-HOUSE</td>\n",
       "      <td>...</td>\n",
       "      <td>NaN</td>\n",
       "      <td>NaN</td>\n",
       "      <td>NaN</td>\n",
       "      <td>NaN</td>\n",
       "      <td>40.841814</td>\n",
       "      <td>-73.850553</td>\n",
       "      <td>(40.841813522, -73.850553051)</td>\n",
       "      <td>25-44</td>\n",
       "      <td>BLACK HISPANIC</td>\n",
       "      <td>F</td>\n",
       "    </tr>\n",
       "  </tbody>\n",
       "</table>\n",
       "<p>5 rows × 23 columns</p>\n",
       "</div>"
      ],
      "text/plain": [
       "   Unnamed: 0        Date  Occ time CMPLNT_TO_TM      RPT_DT  \\\n",
       "0         107  06/23/2006  16:00:00          NaN  06/23/2006   \n",
       "1         210  06/23/2006  14:30:00     14:45:00  06/23/2006   \n",
       "2         224  06/23/2006  14:15:00     14:35:00  06/23/2006   \n",
       "3         293  06/23/2006  13:00:00     16:00:00  06/23/2006   \n",
       "4         311  06/23/2006  12:30:00     17:30:00  06/23/2006   \n",
       "\n",
       "                  PD_DESC      State OFNS_DESC LOC_OF_OCCUR_DESC  \\\n",
       "0  BURGLARY,RESIDENCE,DAY  COMPLETED  BURGLARY            INSIDE   \n",
       "1  BURGLARY,RESIDENCE,DAY  COMPLETED  BURGLARY            INSIDE   \n",
       "2  BURGLARY,RESIDENCE,DAY  COMPLETED  BURGLARY            INSIDE   \n",
       "3  BURGLARY,RESIDENCE,DAY  ATTEMPTED  BURGLARY       OPPOSITE OF   \n",
       "4  BURGLARY,RESIDENCE,DAY  COMPLETED  BURGLARY            INSIDE   \n",
       "\n",
       "            PREM_TYP_DESC  ... SUSP_AGE_GROUP  SUSP_RACE  SUSP_SEX  \\\n",
       "0  RESIDENCE - APT. HOUSE  ...            NaN        NaN       NaN   \n",
       "1  RESIDENCE - APT. HOUSE  ...            NaN        NaN       NaN   \n",
       "2  RESIDENCE - APT. HOUSE  ...            NaN        NaN       NaN   \n",
       "3         RESIDENCE-HOUSE  ...            NaN        NaN       NaN   \n",
       "4         RESIDENCE-HOUSE  ...            NaN        NaN       NaN   \n",
       "\n",
       "  TRANSIT_DISTRICT   Latitude  Longitude                        Lat_Lon  \\\n",
       "0              NaN  40.828366 -73.872354  (40.828365904, -73.872354078)   \n",
       "1              NaN  40.598445 -73.950175  (40.598445031, -73.950174852)   \n",
       "2              NaN  40.824950 -73.946916  (40.824949518, -73.946915952)   \n",
       "3              NaN  40.669374 -73.767661  (40.669374367, -73.767661206)   \n",
       "4              NaN  40.841814 -73.850553  (40.841813522, -73.850553051)   \n",
       "\n",
       "   VIC_AGE_GROUP        VIC_RACE VIC_SEX  \n",
       "0          18-24  WHITE HISPANIC       M  \n",
       "1            65+           WHITE       F  \n",
       "2          25-44           BLACK       M  \n",
       "3            65+           BLACK       M  \n",
       "4          25-44  BLACK HISPANIC       F  \n",
       "\n",
       "[5 rows x 23 columns]"
      ]
     },
     "execution_count": 8,
     "metadata": {},
     "output_type": "execute_result"
    }
   ],
   "source": [
    "# rename column to a meaningful name\n",
    "col ={'CMPLNT_FR_DT':'Date', 'CMPLNT_FR_TM' : 'Occ time', 'CRM_ATPT_CPTD_CD':'State'}\n",
    "bg.rename(columns=col, inplace=True)\n",
    "bg.head()"
   ]
  },
  {
   "cell_type": "code",
   "execution_count": 9,
   "metadata": {},
   "outputs": [],
   "source": [
    "# convert date to datetime\n",
    "bg['Date'] = pd.to_datetime(bg['Date'], errors = 'coerce')"
   ]
  },
  {
   "cell_type": "code",
   "execution_count": 20,
   "metadata": {},
   "outputs": [
    {
     "data": {
      "text/html": [
       "<div>\n",
       "<style scoped>\n",
       "    .dataframe tbody tr th:only-of-type {\n",
       "        vertical-align: middle;\n",
       "    }\n",
       "\n",
       "    .dataframe tbody tr th {\n",
       "        vertical-align: top;\n",
       "    }\n",
       "\n",
       "    .dataframe thead th {\n",
       "        text-align: right;\n",
       "    }\n",
       "</style>\n",
       "<table border=\"1\" class=\"dataframe\">\n",
       "  <thead>\n",
       "    <tr style=\"text-align: right;\">\n",
       "      <th></th>\n",
       "      <th>Unnamed: 0</th>\n",
       "      <th>Date</th>\n",
       "      <th>Occ time</th>\n",
       "      <th>CMPLNT_TO_TM</th>\n",
       "      <th>RPT_DT</th>\n",
       "      <th>PD_DESC</th>\n",
       "      <th>State</th>\n",
       "      <th>OFNS_DESC</th>\n",
       "      <th>LOC_OF_OCCUR_DESC</th>\n",
       "      <th>PREM_TYP_DESC</th>\n",
       "      <th>...</th>\n",
       "      <th>SUSP_RACE</th>\n",
       "      <th>SUSP_SEX</th>\n",
       "      <th>TRANSIT_DISTRICT</th>\n",
       "      <th>Latitude</th>\n",
       "      <th>Longitude</th>\n",
       "      <th>Lat_Lon</th>\n",
       "      <th>VIC_AGE_GROUP</th>\n",
       "      <th>VIC_RACE</th>\n",
       "      <th>VIC_SEX</th>\n",
       "      <th>year</th>\n",
       "    </tr>\n",
       "  </thead>\n",
       "  <tbody>\n",
       "    <tr>\n",
       "      <th>0</th>\n",
       "      <td>107</td>\n",
       "      <td>2006-06-23</td>\n",
       "      <td>16:00:00</td>\n",
       "      <td>NaN</td>\n",
       "      <td>06/23/2006</td>\n",
       "      <td>BURGLARY,RESIDENCE,DAY</td>\n",
       "      <td>COMPLETED</td>\n",
       "      <td>BURGLARY</td>\n",
       "      <td>INSIDE</td>\n",
       "      <td>RESIDENCE - APT. HOUSE</td>\n",
       "      <td>...</td>\n",
       "      <td>NaN</td>\n",
       "      <td>NaN</td>\n",
       "      <td>NaN</td>\n",
       "      <td>40.828366</td>\n",
       "      <td>-73.872354</td>\n",
       "      <td>(40.828365904, -73.872354078)</td>\n",
       "      <td>18-24</td>\n",
       "      <td>WHITE HISPANIC</td>\n",
       "      <td>M</td>\n",
       "      <td>2006</td>\n",
       "    </tr>\n",
       "    <tr>\n",
       "      <th>1</th>\n",
       "      <td>210</td>\n",
       "      <td>2006-06-23</td>\n",
       "      <td>14:30:00</td>\n",
       "      <td>14:45:00</td>\n",
       "      <td>06/23/2006</td>\n",
       "      <td>BURGLARY,RESIDENCE,DAY</td>\n",
       "      <td>COMPLETED</td>\n",
       "      <td>BURGLARY</td>\n",
       "      <td>INSIDE</td>\n",
       "      <td>RESIDENCE - APT. HOUSE</td>\n",
       "      <td>...</td>\n",
       "      <td>NaN</td>\n",
       "      <td>NaN</td>\n",
       "      <td>NaN</td>\n",
       "      <td>40.598445</td>\n",
       "      <td>-73.950175</td>\n",
       "      <td>(40.598445031, -73.950174852)</td>\n",
       "      <td>65+</td>\n",
       "      <td>WHITE</td>\n",
       "      <td>F</td>\n",
       "      <td>2006</td>\n",
       "    </tr>\n",
       "    <tr>\n",
       "      <th>2</th>\n",
       "      <td>224</td>\n",
       "      <td>2006-06-23</td>\n",
       "      <td>14:15:00</td>\n",
       "      <td>14:35:00</td>\n",
       "      <td>06/23/2006</td>\n",
       "      <td>BURGLARY,RESIDENCE,DAY</td>\n",
       "      <td>COMPLETED</td>\n",
       "      <td>BURGLARY</td>\n",
       "      <td>INSIDE</td>\n",
       "      <td>RESIDENCE - APT. HOUSE</td>\n",
       "      <td>...</td>\n",
       "      <td>NaN</td>\n",
       "      <td>NaN</td>\n",
       "      <td>NaN</td>\n",
       "      <td>40.824950</td>\n",
       "      <td>-73.946916</td>\n",
       "      <td>(40.824949518, -73.946915952)</td>\n",
       "      <td>25-44</td>\n",
       "      <td>BLACK</td>\n",
       "      <td>M</td>\n",
       "      <td>2006</td>\n",
       "    </tr>\n",
       "    <tr>\n",
       "      <th>3</th>\n",
       "      <td>293</td>\n",
       "      <td>2006-06-23</td>\n",
       "      <td>13:00:00</td>\n",
       "      <td>16:00:00</td>\n",
       "      <td>06/23/2006</td>\n",
       "      <td>BURGLARY,RESIDENCE,DAY</td>\n",
       "      <td>ATTEMPTED</td>\n",
       "      <td>BURGLARY</td>\n",
       "      <td>OPPOSITE OF</td>\n",
       "      <td>RESIDENCE-HOUSE</td>\n",
       "      <td>...</td>\n",
       "      <td>NaN</td>\n",
       "      <td>NaN</td>\n",
       "      <td>NaN</td>\n",
       "      <td>40.669374</td>\n",
       "      <td>-73.767661</td>\n",
       "      <td>(40.669374367, -73.767661206)</td>\n",
       "      <td>65+</td>\n",
       "      <td>BLACK</td>\n",
       "      <td>M</td>\n",
       "      <td>2006</td>\n",
       "    </tr>\n",
       "    <tr>\n",
       "      <th>4</th>\n",
       "      <td>311</td>\n",
       "      <td>2006-06-23</td>\n",
       "      <td>12:30:00</td>\n",
       "      <td>17:30:00</td>\n",
       "      <td>06/23/2006</td>\n",
       "      <td>BURGLARY,RESIDENCE,DAY</td>\n",
       "      <td>COMPLETED</td>\n",
       "      <td>BURGLARY</td>\n",
       "      <td>INSIDE</td>\n",
       "      <td>RESIDENCE-HOUSE</td>\n",
       "      <td>...</td>\n",
       "      <td>NaN</td>\n",
       "      <td>NaN</td>\n",
       "      <td>NaN</td>\n",
       "      <td>40.841814</td>\n",
       "      <td>-73.850553</td>\n",
       "      <td>(40.841813522, -73.850553051)</td>\n",
       "      <td>25-44</td>\n",
       "      <td>BLACK HISPANIC</td>\n",
       "      <td>F</td>\n",
       "      <td>2006</td>\n",
       "    </tr>\n",
       "  </tbody>\n",
       "</table>\n",
       "<p>5 rows × 24 columns</p>\n",
       "</div>"
      ],
      "text/plain": [
       "   Unnamed: 0       Date  Occ time CMPLNT_TO_TM      RPT_DT  \\\n",
       "0         107 2006-06-23  16:00:00          NaN  06/23/2006   \n",
       "1         210 2006-06-23  14:30:00     14:45:00  06/23/2006   \n",
       "2         224 2006-06-23  14:15:00     14:35:00  06/23/2006   \n",
       "3         293 2006-06-23  13:00:00     16:00:00  06/23/2006   \n",
       "4         311 2006-06-23  12:30:00     17:30:00  06/23/2006   \n",
       "\n",
       "                  PD_DESC      State OFNS_DESC LOC_OF_OCCUR_DESC  \\\n",
       "0  BURGLARY,RESIDENCE,DAY  COMPLETED  BURGLARY            INSIDE   \n",
       "1  BURGLARY,RESIDENCE,DAY  COMPLETED  BURGLARY            INSIDE   \n",
       "2  BURGLARY,RESIDENCE,DAY  COMPLETED  BURGLARY            INSIDE   \n",
       "3  BURGLARY,RESIDENCE,DAY  ATTEMPTED  BURGLARY       OPPOSITE OF   \n",
       "4  BURGLARY,RESIDENCE,DAY  COMPLETED  BURGLARY            INSIDE   \n",
       "\n",
       "            PREM_TYP_DESC  ... SUSP_RACE  SUSP_SEX  TRANSIT_DISTRICT  \\\n",
       "0  RESIDENCE - APT. HOUSE  ...       NaN       NaN               NaN   \n",
       "1  RESIDENCE - APT. HOUSE  ...       NaN       NaN               NaN   \n",
       "2  RESIDENCE - APT. HOUSE  ...       NaN       NaN               NaN   \n",
       "3         RESIDENCE-HOUSE  ...       NaN       NaN               NaN   \n",
       "4         RESIDENCE-HOUSE  ...       NaN       NaN               NaN   \n",
       "\n",
       "    Latitude  Longitude                        Lat_Lon  VIC_AGE_GROUP  \\\n",
       "0  40.828366 -73.872354  (40.828365904, -73.872354078)          18-24   \n",
       "1  40.598445 -73.950175  (40.598445031, -73.950174852)            65+   \n",
       "2  40.824950 -73.946916  (40.824949518, -73.946915952)          25-44   \n",
       "3  40.669374 -73.767661  (40.669374367, -73.767661206)            65+   \n",
       "4  40.841814 -73.850553  (40.841813522, -73.850553051)          25-44   \n",
       "\n",
       "         VIC_RACE  VIC_SEX  year  \n",
       "0  WHITE HISPANIC        M  2006  \n",
       "1           WHITE        F  2006  \n",
       "2           BLACK        M  2006  \n",
       "3           BLACK        M  2006  \n",
       "4  BLACK HISPANIC        F  2006  \n",
       "\n",
       "[5 rows x 24 columns]"
      ]
     },
     "execution_count": 20,
     "metadata": {},
     "output_type": "execute_result"
    }
   ],
   "source": [
    "# to get burglary per year\n",
    "bg['year'] = bg['Date'].dt.year\n",
    "# to ignore bizzar data\n",
    "bg = bg[bg['year'] >= 2006]\n",
    "year = bg['year'].value_counts()\n",
    "bg.head()"
   ]
  },
  {
   "cell_type": "code",
   "execution_count": 21,
   "metadata": {},
   "outputs": [],
   "source": [
    "year = year.sort_index(axis=0, level=None, ascending=True, inplace=False, sort_remaining=True)"
   ]
  },
  {
   "cell_type": "code",
   "execution_count": 22,
   "metadata": {},
   "outputs": [
    {
     "data": {
      "image/png": "[encoded data removed]",
      "text/plain": [
       "<Figure size 1080x720 with 1 Axes>"
      ]
     },
     "metadata": {},
     "output_type": "display_data"
    }
   ],
   "source": [
    "import matplotlib.pyplot as plt\n",
    "ax = year.plot(kind='bar', title =\"Burglary counts per year\", figsize=(15, 10), fontsize=10)\n",
    "ax.set_xlabel(\"Year\", fontsize=14)\n",
    "ax.set_ylabel(\"Counts\", fontsize=14)\n",
    "plt.savefig('Burglary_year.jpg')\n",
    "plt.show()"
   ]
  },
  {
   "cell_type": "code",
   "execution_count": 92,
   "metadata": {},
   "outputs": [
    {
     "data": {
      "text/html": [
       "<div>\n",
       "<style scoped>\n",
       "    .dataframe tbody tr th:only-of-type {\n",
       "        vertical-align: middle;\n",
       "    }\n",
       "\n",
       "    .dataframe tbody tr th {\n",
       "        vertical-align: top;\n",
       "    }\n",
       "\n",
       "    .dataframe thead th {\n",
       "        text-align: right;\n",
       "    }\n",
       "</style>\n",
       "<table border=\"1\" class=\"dataframe\">\n",
       "  <thead>\n",
       "    <tr style=\"text-align: right;\">\n",
       "      <th></th>\n",
       "      <th>index</th>\n",
       "      <th>weekday</th>\n",
       "    </tr>\n",
       "  </thead>\n",
       "  <tbody>\n",
       "    <tr>\n",
       "      <th>0</th>\n",
       "      <td>Friday</td>\n",
       "      <td>18.000501</td>\n",
       "    </tr>\n",
       "    <tr>\n",
       "      <th>1</th>\n",
       "      <td>Wednesday</td>\n",
       "      <td>15.826527</td>\n",
       "    </tr>\n",
       "    <tr>\n",
       "      <th>2</th>\n",
       "      <td>Thursday</td>\n",
       "      <td>15.486344</td>\n",
       "    </tr>\n",
       "    <tr>\n",
       "      <th>3</th>\n",
       "      <td>Monday</td>\n",
       "      <td>15.218510</td>\n",
       "    </tr>\n",
       "    <tr>\n",
       "      <th>4</th>\n",
       "      <td>Tuesday</td>\n",
       "      <td>14.762846</td>\n",
       "    </tr>\n",
       "    <tr>\n",
       "      <th>5</th>\n",
       "      <td>Saturday</td>\n",
       "      <td>11.635802</td>\n",
       "    </tr>\n",
       "    <tr>\n",
       "      <th>6</th>\n",
       "      <td>Sunday</td>\n",
       "      <td>9.069470</td>\n",
       "    </tr>\n",
       "  </tbody>\n",
       "</table>\n",
       "</div>"
      ],
      "text/plain": [
       "       index    weekday\n",
       "0     Friday  18.000501\n",
       "1  Wednesday  15.826527\n",
       "2   Thursday  15.486344\n",
       "3     Monday  15.218510\n",
       "4    Tuesday  14.762846\n",
       "5   Saturday  11.635802\n",
       "6     Sunday   9.069470"
      ]
     },
     "execution_count": 92,
     "metadata": {},
     "output_type": "execute_result"
    }
   ],
   "source": [
    "# to get the day name\n",
    "bg['weekday'] = bg['Date'].dt.day_name()  \n",
    "wkday = pd.DataFrame(bg['weekday'].value_counts() / bg['weekday'].count() *100).reset_index()\n",
    "#wkday = wkday.reset_index()\n",
    "days = ['Monday', 'Tuesday', 'Wednesday', 'Thursday', 'Friday', 'Saturday', 'Sunday']\n",
    "#wkday['index'] = wkday['index'].sort_values(days, inplace=True) \n",
    "wkday"
   ]
  },
  {
   "cell_type": "code",
   "execution_count": 27,
   "metadata": {},
   "outputs": [
    {
     "data": {
      "image/png": "[encoded data removed]",
      "text/plain": [
       "<Figure size 1440x1080 with 1 Axes>"
      ]
     },
     "metadata": {},
     "output_type": "display_data"
    }
   ],
   "source": [
    "sns.set()\n",
    "ax = wkday.plot(kind='barh', title =\"Burglary per weekday\", figsize=(20, 15), legend=False, fontsize=16)\n",
    "ax.set_xlabel(\"Counts\", fontsize=16)\n",
    "ax.set_ylabel(\"Weekday\", fontsize=16)\n",
    "plt.savefig('Burglary_day.jpg')\n",
    "plt.show()"
   ]
  },
  {
   "cell_type": "code",
   "execution_count": 71,
   "metadata": {},
   "outputs": [
    {
     "data": {
      "text/plain": [
       "index\n",
       "January      8.313275\n",
       "February     6.994977\n",
       "March        7.365770\n",
       "April        7.157764\n",
       "May          8.250664\n",
       "June         8.085095\n",
       "July         8.864942\n",
       "August       9.232257\n",
       "September    8.768244\n",
       "October      9.219735\n",
       "November     8.688242\n",
       "December     9.059035\n",
       "Name: month, dtype: float64"
      ]
     },
     "execution_count": 71,
     "metadata": {},
     "output_type": "execute_result"
    }
   ],
   "source": [
    "# to get the month name\n",
    "import calendar\n",
    "bg['month'] = bg['Date'].dt.month  \n",
    "mnth = pd.DataFrame(bg['month'].value_counts() / bg['month'].count() *100).sort_index()\n",
    "mnth = mnth.reset_index()\n",
    "mnth['index'] = mnth['index'].apply(lambda x: calendar.month_name[x])\n",
    "mnth = mnth.set_index(mnth['index'])\n",
    "mnth = mnth['month']\n",
    "mnth"
   ]
  },
  {
   "cell_type": "code",
   "execution_count": 72,
   "metadata": {},
   "outputs": [
    {
     "data": {
      "image/png": "[encoded data removed]",
      "text/plain": [
       "<Figure size 1440x1080 with 1 Axes>"
      ]
     },
     "metadata": {},
     "output_type": "display_data"
    }
   ],
   "source": [
    "sns.set()\n",
    "ax = mnth.plot(kind='bar', figsize=(20, 15), legend=False, fontsize=16)\n",
    "ax.set_xlabel(\"Counts\", fontsize=16)\n",
    "ax.set_ylabel(\"Month\", fontsize=16)\n",
    "plt.savefig('Burglary_month.jpg')\n",
    "plt.show()"
   ]
  },
  {
   "cell_type": "code",
   "execution_count": 138,
   "metadata": {},
   "outputs": [
    {
     "data": {
      "text/plain": [
       "Timestamp('2012-11-21 00:00:00')"
      ]
     },
     "execution_count": 138,
     "metadata": {},
     "output_type": "execute_result"
    }
   ],
   "source": [
    "# hottest crime day since 2006\n",
    "bg.groupby('Date').OFNS_DESC.count().idxmax()"
   ]
  },
  {
   "cell_type": "code",
   "execution_count": 137,
   "metadata": {},
   "outputs": [
    {
     "data": {
      "text/plain": [
       "77"
      ]
     },
     "execution_count": 137,
     "metadata": {},
     "output_type": "execute_result"
    }
   ],
   "source": [
    "bg.groupby('Date').OFNS_DESC.count().max()"
   ]
  },
  {
   "cell_type": "code",
   "execution_count": 146,
   "metadata": {},
   "outputs": [
    {
     "data": {
      "text/plain": [
       "Timestamp('2006-02-12 00:00:00')"
      ]
     },
     "execution_count": 146,
     "metadata": {},
     "output_type": "execute_result"
    }
   ],
   "source": [
    "bg.groupby('Date').OFNS_DESC.count().idxmin()"
   ]
  },
  {
   "cell_type": "code",
   "execution_count": 147,
   "metadata": {},
   "outputs": [
    {
     "data": {
      "text/plain": [
       "4"
      ]
     },
     "execution_count": 147,
     "metadata": {},
     "output_type": "execute_result"
    }
   ],
   "source": [
    "bg.groupby('Date').OFNS_DESC.count().min()"
   ]
  },
  {
   "cell_type": "code",
   "execution_count": 151,
   "metadata": {},
   "outputs": [],
   "source": []
  },
  {
   "cell_type": "code",
   "execution_count": null,
   "metadata": {},
   "outputs": [],
   "source": []
  },
  {
   "cell_type": "code",
   "execution_count": null,
   "metadata": {},
   "outputs": [],
   "source": []
  }
 ],
 "metadata": {
  "kernelspec": {
   "display_name": "Python 3",
   "language": "python",
   "name": "python3"
  },
  "language_info": {
   "codemirror_mode": {
    "name": "ipython",
    "version": 3
   },
   "file_extension": ".py",
   "mimetype": "text/x-python",
   "name": "python",
   "nbconvert_exporter": "python",
   "pygments_lexer": "ipython3",
   "version": "3.7.3"
  }
 },
 "nbformat": 4,
 "nbformat_minor": 2
}
